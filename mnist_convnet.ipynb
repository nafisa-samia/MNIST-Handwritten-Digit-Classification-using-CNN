{
  "cells": [
    {
      "cell_type": "markdown",
      "metadata": {
        "id": "LvMfYy-Trn31"
      },
      "source": [
        "# Simple MNIST convnet\n",
        "A simple convnet that achieves ~99% test accuracy on MNIST."
      ]
    },
    {
      "cell_type": "markdown",
      "metadata": {
        "id": "21KUB3ILrn33"
      },
      "source": [
        "## Setup"
      ]
    },
    {
      "cell_type": "code",
      "execution_count": 1,
      "metadata": {
        "id": "mTt3WKdJrn33"
      },
      "outputs": [],
      "source": [
        "import numpy as np\n",
        "from tensorflow import keras\n",
        "from tensorflow.keras import layers"
      ]
    },
    {
      "cell_type": "markdown",
      "metadata": {
        "id": "XtiybmLNrn34"
      },
      "source": [
        "## Prepare the data"
      ]
    },
    {
      "cell_type": "code",
      "execution_count": 2,
      "metadata": {
        "id": "7_Y8DOXjrn34",
        "colab": {
          "base_uri": "https://localhost:8080/"
        },
        "outputId": "2eea596d-a08e-41cf-a0a1-65daeb8a0682"
      },
      "outputs": [
        {
          "output_type": "stream",
          "name": "stdout",
          "text": [
            "Downloading data from https://storage.googleapis.com/tensorflow/tf-keras-datasets/mnist.npz\n",
            "11493376/11490434 [==============================] - 0s 0us/step\n",
            "11501568/11490434 [==============================] - 0s 0us/step\n",
            "x_train shape: (60000, 28, 28, 1)\n",
            "60000 train samples\n",
            "10000 test samples\n"
          ]
        }
      ],
      "source": [
        "# Model / data parameters\n",
        "num_classes = 10\n",
        "input_shape = (28, 28, 1)\n",
        "\n",
        "# the data, split between train and test sets\n",
        "(x_train, y_train), (x_test, y_test) = keras.datasets.mnist.load_data()\n",
        "\n",
        "# Scale images to the [0, 1] range\n",
        "x_train = x_train.astype(\"float32\") / 255\n",
        "x_test = x_test.astype(\"float32\") / 255\n",
        "# Make sure images have shape (28, 28, 1)\n",
        "x_train = np.expand_dims(x_train, -1)\n",
        "x_test = np.expand_dims(x_test, -1)\n",
        "print(\"x_train shape:\", x_train.shape)\n",
        "print(x_train.shape[0], \"train samples\")\n",
        "print(x_test.shape[0], \"test samples\")\n",
        "\n",
        "\n",
        "# convert class vectors to binary class matrices\n",
        "y_train = keras.utils.to_categorical(y_train, num_classes)\n",
        "y_test = keras.utils.to_categorical(y_test, num_classes)"
      ]
    },
    {
      "cell_type": "markdown",
      "metadata": {
        "id": "ibU_GoN0rn35"
      },
      "source": [
        "## Build the model"
      ]
    },
    {
      "cell_type": "code",
      "execution_count": 3,
      "metadata": {
        "id": "O_g4Skznrn35",
        "colab": {
          "base_uri": "https://localhost:8080/"
        },
        "outputId": "6e005428-910a-4ed6-dd2e-c2d46aba0cad"
      },
      "outputs": [
        {
          "output_type": "stream",
          "name": "stdout",
          "text": [
            "Model: \"sequential\"\n",
            "_________________________________________________________________\n",
            " Layer (type)                Output Shape              Param #   \n",
            "=================================================================\n",
            " conv2d (Conv2D)             (None, 26, 26, 32)        320       \n",
            "                                                                 \n",
            " max_pooling2d (MaxPooling2D  (None, 13, 13, 32)       0         \n",
            " )                                                               \n",
            "                                                                 \n",
            " conv2d_1 (Conv2D)           (None, 11, 11, 64)        18496     \n",
            "                                                                 \n",
            " max_pooling2d_1 (MaxPooling  (None, 5, 5, 64)         0         \n",
            " 2D)                                                             \n",
            "                                                                 \n",
            " flatten (Flatten)           (None, 1600)              0         \n",
            "                                                                 \n",
            " dropout (Dropout)           (None, 1600)              0         \n",
            "                                                                 \n",
            " dense (Dense)               (None, 10)                16010     \n",
            "                                                                 \n",
            "=================================================================\n",
            "Total params: 34,826\n",
            "Trainable params: 34,826\n",
            "Non-trainable params: 0\n",
            "_________________________________________________________________\n"
          ]
        }
      ],
      "source": [
        "model = keras.Sequential(\n",
        "    [\n",
        "        keras.Input(shape=input_shape),\n",
        "        layers.Conv2D(32, kernel_size=(3, 3), activation=\"relu\"),\n",
        "        layers.MaxPooling2D(pool_size=(2, 2)),\n",
        "        layers.Conv2D(64, kernel_size=(3, 3), activation=\"relu\"),\n",
        "        layers.MaxPooling2D(pool_size=(2, 2)),\n",
        "        layers.Flatten(),\n",
        "        layers.Dropout(0.5),\n",
        "        layers.Dense(num_classes, activation=\"softmax\"),\n",
        "    ]\n",
        ")\n",
        "\n",
        "model.summary()"
      ]
    },
    {
      "cell_type": "markdown",
      "metadata": {
        "id": "w3Xv4Cddrn36"
      },
      "source": [
        "## Train the model"
      ]
    },
    {
      "cell_type": "code",
      "execution_count": 4,
      "metadata": {
        "id": "1fNrtOhGrn36",
        "colab": {
          "base_uri": "https://localhost:8080/"
        },
        "outputId": "9d7d3968-b0e7-4b24-aad5-f02748bc3ebf"
      },
      "outputs": [
        {
          "output_type": "stream",
          "name": "stdout",
          "text": [
            "Epoch 1/15\n",
            "422/422 [==============================] - 47s 108ms/step - loss: 0.3596 - accuracy: 0.8878 - val_loss: 0.0855 - val_accuracy: 0.9768\n",
            "Epoch 2/15\n",
            "422/422 [==============================] - 38s 89ms/step - loss: 0.1186 - accuracy: 0.9635 - val_loss: 0.0594 - val_accuracy: 0.9833\n",
            "Epoch 3/15\n",
            "422/422 [==============================] - 40s 94ms/step - loss: 0.0906 - accuracy: 0.9718 - val_loss: 0.0528 - val_accuracy: 0.9835\n",
            "Epoch 4/15\n",
            "422/422 [==============================] - 38s 90ms/step - loss: 0.0745 - accuracy: 0.9767 - val_loss: 0.0432 - val_accuracy: 0.9883\n",
            "Epoch 5/15\n",
            "422/422 [==============================] - 38s 90ms/step - loss: 0.0650 - accuracy: 0.9797 - val_loss: 0.0371 - val_accuracy: 0.9910\n",
            "Epoch 6/15\n",
            "422/422 [==============================] - 38s 90ms/step - loss: 0.0602 - accuracy: 0.9816 - val_loss: 0.0337 - val_accuracy: 0.9907\n",
            "Epoch 7/15\n",
            "422/422 [==============================] - 38s 90ms/step - loss: 0.0528 - accuracy: 0.9832 - val_loss: 0.0324 - val_accuracy: 0.9910\n",
            "Epoch 8/15\n",
            "422/422 [==============================] - 38s 90ms/step - loss: 0.0498 - accuracy: 0.9840 - val_loss: 0.0358 - val_accuracy: 0.9913\n",
            "Epoch 9/15\n",
            "422/422 [==============================] - 38s 90ms/step - loss: 0.0478 - accuracy: 0.9843 - val_loss: 0.0312 - val_accuracy: 0.9912\n",
            "Epoch 10/15\n",
            "422/422 [==============================] - 38s 90ms/step - loss: 0.0424 - accuracy: 0.9870 - val_loss: 0.0324 - val_accuracy: 0.9920\n",
            "Epoch 11/15\n",
            "422/422 [==============================] - 38s 90ms/step - loss: 0.0416 - accuracy: 0.9867 - val_loss: 0.0308 - val_accuracy: 0.9920\n",
            "Epoch 12/15\n",
            "422/422 [==============================] - 38s 90ms/step - loss: 0.0395 - accuracy: 0.9876 - val_loss: 0.0302 - val_accuracy: 0.9912\n",
            "Epoch 13/15\n",
            "422/422 [==============================] - 38s 90ms/step - loss: 0.0379 - accuracy: 0.9878 - val_loss: 0.0304 - val_accuracy: 0.9922\n",
            "Epoch 14/15\n",
            "422/422 [==============================] - 38s 89ms/step - loss: 0.0359 - accuracy: 0.9882 - val_loss: 0.0303 - val_accuracy: 0.9925\n",
            "Epoch 15/15\n",
            "422/422 [==============================] - 38s 89ms/step - loss: 0.0341 - accuracy: 0.9889 - val_loss: 0.0290 - val_accuracy: 0.9925\n"
          ]
        },
        {
          "output_type": "execute_result",
          "data": {
            "text/plain": [
              "<keras.callbacks.History at 0x7f464f26ea90>"
            ]
          },
          "metadata": {},
          "execution_count": 4
        }
      ],
      "source": [
        "batch_size = 128\n",
        "epochs = 15\n",
        "\n",
        "model.compile(loss=\"categorical_crossentropy\", optimizer=\"adam\", metrics=[\"accuracy\"])\n",
        "\n",
        "model.fit(x_train, y_train, batch_size=batch_size, epochs=epochs, validation_split=0.1)"
      ]
    },
    {
      "cell_type": "markdown",
      "metadata": {
        "id": "NJr_DvA9rn37"
      },
      "source": [
        "## Evaluate the trained model"
      ]
    },
    {
      "cell_type": "code",
      "execution_count": 5,
      "metadata": {
        "id": "ZescGWXErn37",
        "colab": {
          "base_uri": "https://localhost:8080/"
        },
        "outputId": "f29e91e7-c3a3-4242-c625-13e579dc53d5"
      },
      "outputs": [
        {
          "output_type": "stream",
          "name": "stdout",
          "text": [
            "Test loss: 0.025914261117577553\n",
            "Test accuracy: 0.9912999868392944\n"
          ]
        }
      ],
      "source": [
        "score = model.evaluate(x_test, y_test, verbose=0)\n",
        "print(\"Test loss:\", score[0])\n",
        "print(\"Test accuracy:\", score[1])"
      ]
    }
  ],
  "metadata": {
    "colab": {
      "collapsed_sections": [],
      "name": "mnist_convnet",
      "provenance": [],
      "toc_visible": true
    },
    "kernelspec": {
      "display_name": "Python 3",
      "language": "python",
      "name": "python3"
    },
    "language_info": {
      "codemirror_mode": {
        "name": "ipython",
        "version": 3
      },
      "file_extension": ".py",
      "mimetype": "text/x-python",
      "name": "python",
      "nbconvert_exporter": "python",
      "pygments_lexer": "ipython3",
      "version": "3.7.0"
    }
  },
  "nbformat": 4,
  "nbformat_minor": 0
}